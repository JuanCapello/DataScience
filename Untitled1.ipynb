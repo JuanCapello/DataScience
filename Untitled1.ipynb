{
  "nbformat": 4,
  "nbformat_minor": 0,
  "metadata": {
    "colab": {
      "name": "Untitled1.ipynb",
      "provenance": [],
      "authorship_tag": "ABX9TyPPEoqkPMcvy46Qw5PvVfAm",
      "include_colab_link": true
    },
    "kernelspec": {
      "name": "python3",
      "display_name": "Python 3"
    },
    "language_info": {
      "name": "python"
    }
  },
  "cells": [
    {
      "cell_type": "markdown",
      "metadata": {
        "id": "view-in-github",
        "colab_type": "text"
      },
      "source": [
        "<a href=\"https://colab.research.google.com/github/JuanCapello/DataScience/blob/master/Untitled1.ipynb\" target=\"_parent\"><img src=\"https://colab.research.google.com/assets/colab-badge.svg\" alt=\"Open In Colab\"/></a>"
      ]
    },
    {
      "cell_type": "markdown",
      "source": [
        "Resolviendo la multiplicación para poder cruzar la calle.\n"
      ],
      "metadata": {
        "id": "6Si3mU85v7uy"
      }
    },
    {
      "cell_type": "code",
      "source": [
        "#Posicionar en el lugar inicial y poner el disfraz de incio.\n",
        "\n",
        "print(\"Ir a x=-140 e y=-83\")\n",
        "print(\"Cambiar disfraz de Devin\")\n",
        "print()\n",
        "\n",
        "#Indicar mensaje de entrada\n",
        "print(\"Necesito tu ayuda para cruzar la calle\")\n",
        "print(\"¿Cuánto es 7x5?\")\n",
        "Resultado = int(input(\"Ingrese resultado de multiplicación: \"))\n",
        "\n",
        "#Validación de respuesta para cruzar la calle, hasta que se indique 35\n",
        "if Resultado == 35:\n",
        "  #Si el resultado es 35\n",
        "  print(\"Correcto, muchas gracias\")\n",
        "  print(\"Cruzar la calle\")\n",
        "  print(\"Cambiar disfraz de Devin\")\n",
        "  print(\"Desplazar a x=30 e y=27\")\n",
        "  print(\"Fin\")\n",
        "elif Resultado < 35 > 30:\n",
        " #Si el resultado es menor a 35 y mayor a 30\n",
        "  print(\"Es un poco mayor\")\n",
        "  Resultado = int(input(\"Ingrese resultado de multiplicación: \"))\n",
        "elif Resultado < 40 > 35:\n",
        " #Si el resultado es menor a 40 y mayor a 35\n",
        "  print(\"Es un poco menor\")\n",
        "  Resultado = int(input(\"Ingrese resultado de multiplicación: \"))\n",
        "else:\n",
        "  #Si el resultado es distinto de 35\n",
        "  print(\"Incorrecto, no podré cruzar\")\n",
        "  print(\"Cambiar disfraz de Devin\")\n"
      ],
      "metadata": {
        "colab": {
          "base_uri": "https://localhost:8080/"
        },
        "id": "vSFbhyh2wHc0",
        "outputId": "24dcf54f-cedb-4bba-f79b-d53d842a3410"
      },
      "execution_count": 28,
      "outputs": [
        {
          "output_type": "stream",
          "name": "stdout",
          "text": [
            "Ir a x=-140 e y=-83\n",
            "Cambiar disfraz de Devin\n",
            "\n",
            "Necesito tu ayuda para cruzar la calle\n",
            "¿Cuánto es 7x5?\n",
            "Ingrese resultado de multiplicación: 35\n",
            "Correcto, muchas gracias\n",
            "Cruzar la calle\n",
            "Cambiar disfraz de Devin\n",
            "Desplazar a x=30 e y=27\n",
            "Fin\n"
          ]
        }
      ]
    },
    {
      "cell_type": "code",
      "source": [
        "else Resultado != \"35\"\n",
        "  #Si el resultado es distinto de 35\n",
        "  print(\"Incorrecto, no podré cruzar\")\n",
        "  print(\"Cambiar disfraz de Devin\")"
      ],
      "metadata": {
        "id": "p2LZlHKby7Jf"
      },
      "execution_count": null,
      "outputs": []
    }
  ]
}